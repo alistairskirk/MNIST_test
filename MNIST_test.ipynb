{
 "cells": [
  {
   "cell_type": "code",
   "execution_count": 91,
   "metadata": {},
   "outputs": [],
   "source": [
    "\"\"\"\n",
    "Title: Simple MNIST convnet\n",
    "Author: [fchollet](https://twitter.com/fchollet)\n",
    "Date created: 2015/06/19\n",
    "Last modified: 2020/04/21, by alistairskirk\n",
    "Description: A simple convnet that achieves ~99% test accuracy on MNIST.\n",
    "\"\"\"\n",
    "\n",
    "\"\"\"\n",
    "## Setup\n",
    "\"\"\"\n",
    "\n",
    "import numpy as np\n",
    "from tensorflow import keras\n",
    "from tensorflow.keras import layers\n",
    "from keras.preprocessing import image\n",
    "import matplotlib.pyplot as plt\n",
    "import cv2\n",
    "import os"
   ]
  },
  {
   "cell_type": "code",
   "execution_count": 2,
   "metadata": {},
   "outputs": [
    {
     "name": "stdout",
     "output_type": "stream",
     "text": [
      "Downloading data from https://storage.googleapis.com/tensorflow/tf-keras-datasets/mnist.npz\n",
      "11493376/11490434 [==============================] - 6s 0us/step\n",
      "x_train shape: (60000, 28, 28, 1)\n",
      "60000 train samples\n",
      "10000 test samples\n"
     ]
    }
   ],
   "source": [
    "\"\"\"\n",
    "## Prepare the data\n",
    "\"\"\"\n",
    "# Model / data parameters\n",
    "num_classes = 10\n",
    "input_shape = (28, 28, 1)\n",
    "\n",
    "# the data, split between train and test sets\n",
    "(x_train, y_train), (x_test, y_test) = keras.datasets.mnist.load_data()\n",
    "\n",
    "# Scale images to the [0, 1] range\n",
    "x_train = x_train.astype(\"float32\") / 255\n",
    "x_test = x_test.astype(\"float32\") / 255\n",
    "# Make sure images have shape (28, 28, 1)\n",
    "x_train = np.expand_dims(x_train, -1)\n",
    "x_test = np.expand_dims(x_test, -1)\n",
    "print(\"x_train shape:\", x_train.shape)\n",
    "print(x_train.shape[0], \"train samples\")\n",
    "print(x_test.shape[0], \"test samples\")\n",
    "\n",
    "\n",
    "# convert class vectors to binary class matrices\n",
    "y_train = keras.utils.to_categorical(y_train, num_classes)\n",
    "y_test = keras.utils.to_categorical(y_test, num_classes)"
   ]
  },
  {
   "cell_type": "code",
   "execution_count": 3,
   "metadata": {},
   "outputs": [
    {
     "name": "stdout",
     "output_type": "stream",
     "text": [
      "Model: \"sequential\"\n",
      "_________________________________________________________________\n",
      "Layer (type)                 Output Shape              Param #   \n",
      "=================================================================\n",
      "conv2d (Conv2D)              (None, 26, 26, 32)        320       \n",
      "_________________________________________________________________\n",
      "max_pooling2d (MaxPooling2D) (None, 13, 13, 32)        0         \n",
      "_________________________________________________________________\n",
      "conv2d_1 (Conv2D)            (None, 11, 11, 64)        18496     \n",
      "_________________________________________________________________\n",
      "max_pooling2d_1 (MaxPooling2 (None, 5, 5, 64)          0         \n",
      "_________________________________________________________________\n",
      "flatten (Flatten)            (None, 1600)              0         \n",
      "_________________________________________________________________\n",
      "dropout (Dropout)            (None, 1600)              0         \n",
      "_________________________________________________________________\n",
      "dense (Dense)                (None, 10)                16010     \n",
      "=================================================================\n",
      "Total params: 34,826\n",
      "Trainable params: 34,826\n",
      "Non-trainable params: 0\n",
      "_________________________________________________________________\n"
     ]
    }
   ],
   "source": [
    "\"\"\"\n",
    "## Build the model\n",
    "\"\"\"\n",
    "\n",
    "model = keras.Sequential(\n",
    "    [\n",
    "        keras.Input(shape=input_shape),\n",
    "        layers.Conv2D(32, kernel_size=(3, 3), activation=\"relu\"),\n",
    "        layers.MaxPooling2D(pool_size=(2, 2)),\n",
    "        layers.Conv2D(64, kernel_size=(3, 3), activation=\"relu\"),\n",
    "        layers.MaxPooling2D(pool_size=(2, 2)),\n",
    "        layers.Flatten(),\n",
    "        layers.Dropout(0.5),\n",
    "        layers.Dense(num_classes, activation=\"softmax\"),\n",
    "    ]\n",
    ")\n",
    "\n",
    "model.summary()"
   ]
  },
  {
   "cell_type": "code",
   "execution_count": 4,
   "metadata": {},
   "outputs": [
    {
     "name": "stdout",
     "output_type": "stream",
     "text": [
      "Epoch 1/15\n",
      "422/422 [==============================] - 21s 48ms/step - loss: 0.7670 - accuracy: 0.7621 - val_loss: 0.0834 - val_accuracy: 0.9760\n",
      "Epoch 2/15\n",
      "422/422 [==============================] - 19s 46ms/step - loss: 0.1285 - accuracy: 0.9608 - val_loss: 0.0549 - val_accuracy: 0.9857\n",
      "Epoch 3/15\n",
      "422/422 [==============================] - 19s 46ms/step - loss: 0.0909 - accuracy: 0.9714 - val_loss: 0.0489 - val_accuracy: 0.9870\n",
      "Epoch 4/15\n",
      "422/422 [==============================] - 20s 46ms/step - loss: 0.0717 - accuracy: 0.9769 - val_loss: 0.0444 - val_accuracy: 0.9880\n",
      "Epoch 5/15\n",
      "422/422 [==============================] - 19s 46ms/step - loss: 0.0657 - accuracy: 0.9791 - val_loss: 0.0410 - val_accuracy: 0.9865\n",
      "Epoch 6/15\n",
      "422/422 [==============================] - 20s 46ms/step - loss: 0.0602 - accuracy: 0.9811 - val_loss: 0.0390 - val_accuracy: 0.9883\n",
      "Epoch 7/15\n",
      "422/422 [==============================] - 20s 47ms/step - loss: 0.0548 - accuracy: 0.9833 - val_loss: 0.0338 - val_accuracy: 0.9912\n",
      "Epoch 8/15\n",
      "422/422 [==============================] - 21s 50ms/step - loss: 0.0485 - accuracy: 0.9843 - val_loss: 0.0337 - val_accuracy: 0.9908\n",
      "Epoch 9/15\n",
      "422/422 [==============================] - 20s 48ms/step - loss: 0.0460 - accuracy: 0.9847 - val_loss: 0.0351 - val_accuracy: 0.9903\n",
      "Epoch 10/15\n",
      "422/422 [==============================] - 20s 48ms/step - loss: 0.0417 - accuracy: 0.9869 - val_loss: 0.0334 - val_accuracy: 0.9897\n",
      "Epoch 11/15\n",
      "422/422 [==============================] - 19s 46ms/step - loss: 0.0438 - accuracy: 0.9860 - val_loss: 0.0332 - val_accuracy: 0.9915\n",
      "Epoch 12/15\n",
      "422/422 [==============================] - 20s 47ms/step - loss: 0.0394 - accuracy: 0.9873 - val_loss: 0.0293 - val_accuracy: 0.9917\n",
      "Epoch 13/15\n",
      "422/422 [==============================] - 22s 51ms/step - loss: 0.0396 - accuracy: 0.9876 - val_loss: 0.0319 - val_accuracy: 0.9923\n",
      "Epoch 14/15\n",
      "422/422 [==============================] - 21s 50ms/step - loss: 0.0344 - accuracy: 0.9889 - val_loss: 0.0309 - val_accuracy: 0.9915\n",
      "Epoch 15/15\n",
      "422/422 [==============================] - 21s 50ms/step - loss: 0.0353 - accuracy: 0.9888 - val_loss: 0.0291 - val_accuracy: 0.9930\n"
     ]
    },
    {
     "data": {
      "text/plain": [
       "<tensorflow.python.keras.callbacks.History at 0x16825b27be0>"
      ]
     },
     "execution_count": 4,
     "metadata": {},
     "output_type": "execute_result"
    }
   ],
   "source": [
    "\"\"\"\n",
    "## Train the model\n",
    "\"\"\"\n",
    "\n",
    "batch_size = 128\n",
    "epochs = 15\n",
    "\n",
    "model.compile(loss=\"categorical_crossentropy\", optimizer=\"adam\", metrics=[\"accuracy\"])\n",
    "\n",
    "model.fit(x_train, y_train, batch_size=batch_size, epochs=epochs, validation_split=0.1)\n"
   ]
  },
  {
   "cell_type": "code",
   "execution_count": 5,
   "metadata": {},
   "outputs": [
    {
     "name": "stdout",
     "output_type": "stream",
     "text": [
      "Test loss: 0.025978323072195053\n",
      "Test accuracy: 0.9907000064849854\n"
     ]
    }
   ],
   "source": [
    "\"\"\"\n",
    "## Evaluate the trained model\n",
    "\"\"\"\n",
    "\n",
    "score = model.evaluate(x_test, y_test, verbose=0)\n",
    "print(\"Test loss:\", score[0])\n",
    "print(\"Test accuracy:\", score[1])"
   ]
  },
  {
   "cell_type": "code",
   "execution_count": 136,
   "metadata": {},
   "outputs": [
    {
     "name": "stdout",
     "output_type": "stream",
     "text": [
      "Analyzing, 10 images\n"
     ]
    },
    {
     "data": {
      "image/png": "[encoded data removed]",
      "text/plain": [
       "<Figure size 1080x576 with 10 Axes>"
      ]
     },
     "metadata": {
      "needs_background": "light"
     },
     "output_type": "display_data"
    }
   ],
   "source": [
    "folder=\"test/\" # test images\n",
    "images = []\n",
    "for filename in os.listdir(folder):\n",
    "    img_ = cv2.imread(os.path.join(folder,filename),0) #using 0 for grayscale read in, maybe dont invert?\n",
    "    if ((img_ is not None)&(filename.endswith('.jpg'))):\n",
    "        images.append(img_)\n",
    "print(\"Analyzing, {:s} images\".format(str(len(images))))\n",
    "\n",
    "image_set = []      \n",
    "for img in images:\n",
    "    #img = image.load_img(img_path, target_size=(28, 28), color_mode = 'grayscale')\n",
    "    img_tensor = image.img_to_array(img)                    # (height, width, channels)\n",
    "    img_tensor = np.expand_dims(img_tensor, axis=0)         # (1, height, width, channels), add a dimension because the model expects this shape: (batch_size, height, width, channels)\n",
    "    #print(img_tensor)\n",
    "    img_tensor /= 255.                                      # imshow expects values in the range [0, 1]\n",
    "    img_tensor = 1 - img_tensor                             # invert the matrix values 1->0, 0->1 because import grayscale inverts image\n",
    "    image_set.append(img_tensor)\n",
    "\n",
    "f, ax = plt.subplots(2,round(len(images)/2),figsize=(15,8)) \n",
    "\n",
    "idx = -1\n",
    "row = 0\n",
    "\n",
    "for img_tensor in image_set:\n",
    "    #plt.imshow(img_tensor[0])                           \n",
    "    #plt.axis('off')\n",
    "    #plt.show()\n",
    "    #print(idx)\n",
    "    if (idx>=round(len(images)/2)-1):\n",
    "        idx = 0\n",
    "        row+=1\n",
    "    else: idx+=1\n",
    "    #print(idx)    \n",
    "    ax[row,idx].imshow(img_tensor[0]-1)\n",
    "    \n",
    "    predmatrix = model.predict(img_tensor)\n",
    "    #print(\"Number: \",np.argmax(predmatrix))\n",
    "    #print(\"with {:.3}\".format(np.max(predmatrix)*100),'% conf.')\n",
    "    title_string = \"Number: \"+str(np.argmax(predmatrix))+\" at {:.4}\".format(np.max(predmatrix)*100)+'%'\n",
    "    ax[row,idx].set_title(title_string)\n"
   ]
  },
  {
   "cell_type": "code",
   "execution_count": null,
   "metadata": {},
   "outputs": [],
   "source": []
  }
 ],
 "metadata": {
  "kernelspec": {
   "display_name": "Python 3",
   "language": "python",
   "name": "python3"
  },
  "language_info": {
   "codemirror_mode": {
    "name": "ipython",
    "version": 3
   },
   "file_extension": ".py",
   "mimetype": "text/x-python",
   "name": "python",
   "nbconvert_exporter": "python",
   "pygments_lexer": "ipython3",
   "version": "3.8.5"
  }
 },
 "nbformat": 4,
 "nbformat_minor": 4
}
